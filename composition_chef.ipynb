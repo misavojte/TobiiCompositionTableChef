{
 "cells": [
  {
   "cell_type": "code",
   "execution_count": null,
   "metadata": {},
   "outputs": [],
   "source": [
    "position_letters = ['A', 'B', 'C', 'D', 'E', 'F', 'G', 'H', 'I', 'J', 'K', 'L']\n",
    "\n",
    "instruction_position = 'X'\n",
    "\n",
    "composition_numbers = [str(i) for i in range(1, 23)]\n",
    "\n",
    "print('Position letters:', position_letters)\n",
    "print('Instruction position:', instruction_position)\n",
    "print('Composition numbers:', composition_numbers)"
   ]
  },
  {
   "cell_type": "code",
   "execution_count": null,
   "metadata": {},
   "outputs": [],
   "source": [
    "# There are len(position_letters) pictures for each composition\n",
    "# There are len(composition_numbers) compositions\n",
    "# Images are named {composition_number}-{position_letter}\n",
    "# We need to create 100 combination of a) composition number a\n",
    "\n",
    "import random\n",
    "\n",
    "def create_one_composition_dict(composition_number: int, position_letters: list, variant_number: int,  instruction_position: str = 'X') -> dict:\n",
    "    '''\n",
    "    Create a dictionary with the composition number and the position letters\n",
    "    With the images on random positions of the composition\n",
    "    '''\n",
    "    # Convert the composition number to a string with 2 digits\n",
    "    composition_number = f'{composition_number:02d}'\n",
    "    \n",
    "    composition_dict = {}\n",
    "    shuffled_positions_list = position_letters.copy()\n",
    "    random.shuffle(shuffled_positions_list)\n",
    "    \n",
    "    for i, position_letter in enumerate(position_letters):\n",
    "        composition_dict[position_letter] = f'{composition_number}-{shuffled_positions_list[i]}'\n",
    "\n",
    "    composition_dict['instruction'] = f'{instruction_position}{composition_number}'\n",
    "    composition_dict['variant'] = variant_number\n",
    "\n",
    "    return composition_dict\n",
    "\n",
    "\n",
    "def create_composition_dict_list(composition_numbers: list, position_letters: list, variant_number: int, instruction_position: str = 'X') -> list:\n",
    "    '''\n",
    "    Create a list of dictionaries with the composition number and the position letters\n",
    "    With the images on random positions of the composition\n",
    "    With randomized order of composition numbers\n",
    "    '''\n",
    "    composition_dict_list = []\n",
    "    shuffled_composition_numbers = composition_numbers.copy()\n",
    "    random.shuffle(shuffled_composition_numbers)\n",
    "    for composition_number in shuffled_composition_numbers:\n",
    "        composition_dict_list.append(create_one_composition_dict(int(composition_number), position_letters, variant_number, instruction_position))\n",
    "    return composition_dict_list\n",
    "\n",
    "def create_composition_dict_lists_for_multiple_participants(how_many: int, composition_numbers: list, position_letters: list, instruction_position: str = 'X') -> list:\n",
    "    '''\n",
    "    Create a list of lists of dictionaries with the composition number and the position letters\n",
    "    With the images on random positions of the composition\n",
    "    With randomized order of composition numbers\n",
    "    '''\n",
    "    composition_dict_lists = []\n",
    "    for i in range(how_many):\n",
    "        dict_list_variant = create_composition_dict_list(composition_numbers, position_letters, i, instruction_position)\n",
    "        # add all values of this list to composition_dict_lists\n",
    "        composition_dict_lists.extend(dict_list_variant)\n",
    "    return composition_dict_lists"
   ]
  },
  {
   "cell_type": "code",
   "execution_count": null,
   "metadata": {},
   "outputs": [],
   "source": []
  },
  {
   "cell_type": "code",
   "execution_count": null,
   "metadata": {},
   "outputs": [],
   "source": [
    "composition_dict_list = create_composition_dict_lists_for_multiple_participants(100, composition_numbers, position_letters, 'Zadani_')\n",
    "\n",
    "# convert to XLS\n",
    "\n",
    "import pandas as pd\n",
    "\n",
    "df = pd.DataFrame(composition_dict_list)\n",
    "df.to_excel('composition.xlsx', index=False)\n"
   ]
  }
 ],
 "metadata": {
  "kernelspec": {
   "display_name": "ABBA",
   "language": "python",
   "name": "python3"
  },
  "language_info": {
   "codemirror_mode": {
    "name": "ipython",
    "version": 3
   },
   "file_extension": ".py",
   "mimetype": "text/x-python",
   "name": "python",
   "nbconvert_exporter": "python",
   "pygments_lexer": "ipython3",
   "version": "3.12.2"
  }
 },
 "nbformat": 4,
 "nbformat_minor": 2
}
